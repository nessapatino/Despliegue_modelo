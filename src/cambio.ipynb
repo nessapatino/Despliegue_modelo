{
 "cells": [
  {
   "cell_type": "code",
   "execution_count": 2,
   "metadata": {},
   "outputs": [],
   "source": [
    "import joblib\n",
    "import pickle\n",
    "\n",
    "import numpy as np\n",
    "import pandas as pd\n",
    "\n",
    "def categorize_BMI(bmi_list):\n",
    "    df = pd.DataFrame(bmi_list, columns=['BMI'])\n",
    "    bins = [-np.inf, 18.5, 24.9, 29.9, np.inf]\n",
    "    labels = ['Bajo peso', 'Normal', 'Sobrepeso', 'Obesidad']\n",
    "    df['BMI'] = pd.cut(df['BMI'], bins=bins, labels=labels)  # Reemplaza la columna 'BMI'\n",
    "    return df[['BMI']]  # Retorna solo la columna transformada\n",
    "\n",
    "def categorize_BloodGlucose(blood_glucose_list):\n",
    "    df = pd.DataFrame(blood_glucose_list, columns=['BloodGlucose'])\n",
    "    bins = [-np.inf, 99, 126, np.inf]\n",
    "    labels = ['Normal', 'Prediabetes', 'Diabetes']\n",
    "    df['BloodGlucose'] = pd.cut(df['BloodGlucose'], bins=bins, labels=labels)  # Reemplaza 'BloodGlucose'\n",
    "    return df[['BloodGlucose']]  # Retorna solo la columna transformada\n",
    "\n",
    "def categorize_Triglycerides(data):\n",
    "    df = pd.DataFrame(data, columns=['Age', 'Triglycerides'])\n",
    "    def categorize_row(row):\n",
    "        age, triglycerides = row\n",
    "        if 10 <= age <= 19:\n",
    "            if triglycerides < 90:\n",
    "                return 'Nivel normal'\n",
    "            elif triglycerides < 150:\n",
    "                return 'Niveles ligeramente altos'\n",
    "            else:\n",
    "                return 'Niveles altos'\n",
    "        else:\n",
    "            if triglycerides < 150:\n",
    "                return 'Nivel normal'\n",
    "            elif triglycerides < 200:\n",
    "                return 'Niveles ligeramente altos'\n",
    "            elif triglycerides < 500:\n",
    "                return 'Niveles altos'\n",
    "            else:\n",
    "                return 'Niveles muy altos'\n",
    "\n",
    "    df['Triglycerides'] = df[['Age', 'Triglycerides']].apply(categorize_row, axis=1)\n",
    "    return df[['Triglycerides']]\n",
    "\n",
    "# Función para categorizar el HDL\n",
    "def categorize_HDL(data):\n",
    "    df = pd.DataFrame(data, columns=['Sex', 'HDL'])\n",
    "    def categorize_row(row):\n",
    "        sex, hdl = row\n",
    "        return 'Valor_Bajo' if (sex == 'Male' and hdl < 40) or (sex == 'Female' and hdl < 50) else 'Normal'\n",
    "\n",
    "    df['HDL'] = df[['Sex', 'HDL']].apply(categorize_row, axis=1)\n",
    "    return df[['HDL']]\n",
    "\n",
    "# Función para categorizar la circunferencia de cintura (WaistCirc)\n",
    "def categorize_WaistCirc(data):\n",
    "    df = pd.DataFrame(data, columns=['Sex', 'WaistCirc'])\n",
    "    def categorize_row(row):\n",
    "        sex, waistcirc = row\n",
    "        return 'Riesgo Elevado' if (sex == 'Female' and waistcirc > 88) or (sex == 'Male' and waistcirc > 102) else 'Normal'\n",
    "    \n",
    "    df['WaistCirc'] = df[['Sex', 'WaistCirc']].apply(categorize_row, axis=1)\n",
    "    return df[['WaistCirc']]\n",
    "\n"
   ]
  },
  {
   "cell_type": "code",
   "execution_count": 6,
   "metadata": {},
   "outputs": [],
   "source": [
    "modelo =joblib.load('mejor_modelo_XGBoost.joblib')"
   ]
  },
  {
   "cell_type": "code",
   "execution_count": 7,
   "metadata": {},
   "outputs": [],
   "source": [
    "with open('modelo_entrenado.pkl', 'wb') as file:\n",
    "    pickle.dump(modelo, file)"
   ]
  }
 ],
 "metadata": {
  "kernelspec": {
   "display_name": "Python 3",
   "language": "python",
   "name": "python3"
  },
  "language_info": {
   "codemirror_mode": {
    "name": "ipython",
    "version": 3
   },
   "file_extension": ".py",
   "mimetype": "text/x-python",
   "name": "python",
   "nbconvert_exporter": "python",
   "pygments_lexer": "ipython3",
   "version": "3.11.6"
  }
 },
 "nbformat": 4,
 "nbformat_minor": 2
}
